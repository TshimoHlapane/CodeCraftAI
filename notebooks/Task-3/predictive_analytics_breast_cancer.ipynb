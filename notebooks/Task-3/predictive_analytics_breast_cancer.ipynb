{
  "nbformat": 4,
  "nbformat_minor": 0,
  "metadata": {
    "colab": {
      "provenance": []
    },
    "kernelspec": {
      "name": "python3",
      "display_name": "Python 3"
    },
    "language_info": {
      "name": "python"
    }
  },
  "cells": [
    {
      "cell_type": "code",
      "execution_count": 1,
      "metadata": {
        "colab": {
          "base_uri": "https://localhost:8080/",
          "height": 86
        },
        "id": "xzdcHgcpUcFa",
        "outputId": "960a6b8b-2843-42ba-e467-ead14bdd6215"
      },
      "outputs": [
        {
          "output_type": "display_data",
          "data": {
            "text/plain": [
              "<IPython.core.display.HTML object>"
            ],
            "text/html": [
              "\n",
              "     <input type=\"file\" id=\"files-3c3d0aa3-aa4a-475c-92ba-6002546b106b\" name=\"files[]\" multiple disabled\n",
              "        style=\"border:none\" />\n",
              "     <output id=\"result-3c3d0aa3-aa4a-475c-92ba-6002546b106b\">\n",
              "      Upload widget is only available when the cell has been executed in the\n",
              "      current browser session. Please rerun this cell to enable.\n",
              "      </output>\n",
              "      <script>// Copyright 2017 Google LLC\n",
              "//\n",
              "// Licensed under the Apache License, Version 2.0 (the \"License\");\n",
              "// you may not use this file except in compliance with the License.\n",
              "// You may obtain a copy of the License at\n",
              "//\n",
              "//      http://www.apache.org/licenses/LICENSE-2.0\n",
              "//\n",
              "// Unless required by applicable law or agreed to in writing, software\n",
              "// distributed under the License is distributed on an \"AS IS\" BASIS,\n",
              "// WITHOUT WARRANTIES OR CONDITIONS OF ANY KIND, either express or implied.\n",
              "// See the License for the specific language governing permissions and\n",
              "// limitations under the License.\n",
              "\n",
              "/**\n",
              " * @fileoverview Helpers for google.colab Python module.\n",
              " */\n",
              "(function(scope) {\n",
              "function span(text, styleAttributes = {}) {\n",
              "  const element = document.createElement('span');\n",
              "  element.textContent = text;\n",
              "  for (const key of Object.keys(styleAttributes)) {\n",
              "    element.style[key] = styleAttributes[key];\n",
              "  }\n",
              "  return element;\n",
              "}\n",
              "\n",
              "// Max number of bytes which will be uploaded at a time.\n",
              "const MAX_PAYLOAD_SIZE = 100 * 1024;\n",
              "\n",
              "function _uploadFiles(inputId, outputId) {\n",
              "  const steps = uploadFilesStep(inputId, outputId);\n",
              "  const outputElement = document.getElementById(outputId);\n",
              "  // Cache steps on the outputElement to make it available for the next call\n",
              "  // to uploadFilesContinue from Python.\n",
              "  outputElement.steps = steps;\n",
              "\n",
              "  return _uploadFilesContinue(outputId);\n",
              "}\n",
              "\n",
              "// This is roughly an async generator (not supported in the browser yet),\n",
              "// where there are multiple asynchronous steps and the Python side is going\n",
              "// to poll for completion of each step.\n",
              "// This uses a Promise to block the python side on completion of each step,\n",
              "// then passes the result of the previous step as the input to the next step.\n",
              "function _uploadFilesContinue(outputId) {\n",
              "  const outputElement = document.getElementById(outputId);\n",
              "  const steps = outputElement.steps;\n",
              "\n",
              "  const next = steps.next(outputElement.lastPromiseValue);\n",
              "  return Promise.resolve(next.value.promise).then((value) => {\n",
              "    // Cache the last promise value to make it available to the next\n",
              "    // step of the generator.\n",
              "    outputElement.lastPromiseValue = value;\n",
              "    return next.value.response;\n",
              "  });\n",
              "}\n",
              "\n",
              "/**\n",
              " * Generator function which is called between each async step of the upload\n",
              " * process.\n",
              " * @param {string} inputId Element ID of the input file picker element.\n",
              " * @param {string} outputId Element ID of the output display.\n",
              " * @return {!Iterable<!Object>} Iterable of next steps.\n",
              " */\n",
              "function* uploadFilesStep(inputId, outputId) {\n",
              "  const inputElement = document.getElementById(inputId);\n",
              "  inputElement.disabled = false;\n",
              "\n",
              "  const outputElement = document.getElementById(outputId);\n",
              "  outputElement.innerHTML = '';\n",
              "\n",
              "  const pickedPromise = new Promise((resolve) => {\n",
              "    inputElement.addEventListener('change', (e) => {\n",
              "      resolve(e.target.files);\n",
              "    });\n",
              "  });\n",
              "\n",
              "  const cancel = document.createElement('button');\n",
              "  inputElement.parentElement.appendChild(cancel);\n",
              "  cancel.textContent = 'Cancel upload';\n",
              "  const cancelPromise = new Promise((resolve) => {\n",
              "    cancel.onclick = () => {\n",
              "      resolve(null);\n",
              "    };\n",
              "  });\n",
              "\n",
              "  // Wait for the user to pick the files.\n",
              "  const files = yield {\n",
              "    promise: Promise.race([pickedPromise, cancelPromise]),\n",
              "    response: {\n",
              "      action: 'starting',\n",
              "    }\n",
              "  };\n",
              "\n",
              "  cancel.remove();\n",
              "\n",
              "  // Disable the input element since further picks are not allowed.\n",
              "  inputElement.disabled = true;\n",
              "\n",
              "  if (!files) {\n",
              "    return {\n",
              "      response: {\n",
              "        action: 'complete',\n",
              "      }\n",
              "    };\n",
              "  }\n",
              "\n",
              "  for (const file of files) {\n",
              "    const li = document.createElement('li');\n",
              "    li.append(span(file.name, {fontWeight: 'bold'}));\n",
              "    li.append(span(\n",
              "        `(${file.type || 'n/a'}) - ${file.size} bytes, ` +\n",
              "        `last modified: ${\n",
              "            file.lastModifiedDate ? file.lastModifiedDate.toLocaleDateString() :\n",
              "                                    'n/a'} - `));\n",
              "    const percent = span('0% done');\n",
              "    li.appendChild(percent);\n",
              "\n",
              "    outputElement.appendChild(li);\n",
              "\n",
              "    const fileDataPromise = new Promise((resolve) => {\n",
              "      const reader = new FileReader();\n",
              "      reader.onload = (e) => {\n",
              "        resolve(e.target.result);\n",
              "      };\n",
              "      reader.readAsArrayBuffer(file);\n",
              "    });\n",
              "    // Wait for the data to be ready.\n",
              "    let fileData = yield {\n",
              "      promise: fileDataPromise,\n",
              "      response: {\n",
              "        action: 'continue',\n",
              "      }\n",
              "    };\n",
              "\n",
              "    // Use a chunked sending to avoid message size limits. See b/62115660.\n",
              "    let position = 0;\n",
              "    do {\n",
              "      const length = Math.min(fileData.byteLength - position, MAX_PAYLOAD_SIZE);\n",
              "      const chunk = new Uint8Array(fileData, position, length);\n",
              "      position += length;\n",
              "\n",
              "      const base64 = btoa(String.fromCharCode.apply(null, chunk));\n",
              "      yield {\n",
              "        response: {\n",
              "          action: 'append',\n",
              "          file: file.name,\n",
              "          data: base64,\n",
              "        },\n",
              "      };\n",
              "\n",
              "      let percentDone = fileData.byteLength === 0 ?\n",
              "          100 :\n",
              "          Math.round((position / fileData.byteLength) * 100);\n",
              "      percent.textContent = `${percentDone}% done`;\n",
              "\n",
              "    } while (position < fileData.byteLength);\n",
              "  }\n",
              "\n",
              "  // All done.\n",
              "  yield {\n",
              "    response: {\n",
              "      action: 'complete',\n",
              "    }\n",
              "  };\n",
              "}\n",
              "\n",
              "scope.google = scope.google || {};\n",
              "scope.google.colab = scope.google.colab || {};\n",
              "scope.google.colab._files = {\n",
              "  _uploadFiles,\n",
              "  _uploadFilesContinue,\n",
              "};\n",
              "})(self);\n",
              "</script> "
            ]
          },
          "metadata": {}
        },
        {
          "output_type": "stream",
          "name": "stdout",
          "text": [
            "Saving kaggle.json to kaggle.json\n"
          ]
        },
        {
          "output_type": "execute_result",
          "data": {
            "text/plain": [
              "{'kaggle.json': b'{\"username\":\"tshimohlapane\",\"key\":\"bfc6ed3477793bd903e3dbfb3b0c2f90\"}'}"
            ]
          },
          "metadata": {},
          "execution_count": 1
        }
      ],
      "source": [
        "from google.colab import files\n",
        "files.upload()"
      ]
    },
    {
      "cell_type": "code",
      "source": [
        "import os\n",
        "import zipfile\n",
        "\n",
        "# Create Kaggle folder and move the key there\n",
        "os.makedirs(\"/root/.kaggle\", exist_ok=True)\n",
        "!mv kaggle.json /root/.kaggle/kaggle.json\n",
        "\n",
        "# Set permissions\n",
        "!chmod 600 /root/.kaggle/kaggle.json\n",
        "\n"
      ],
      "metadata": {
        "id": "YHVL9j6aU6zE"
      },
      "execution_count": 2,
      "outputs": []
    },
    {
      "cell_type": "code",
      "source": [
        "# Replace with your competition name\n",
        "!kaggle competitions download -c iuss-23-24-automatic-diagnosis-breast-cancer\n"
      ],
      "metadata": {
        "colab": {
          "base_uri": "https://localhost:8080/"
        },
        "id": "SE09nXf9U9hQ",
        "outputId": "46ac3258-5faf-4d53-c1e3-49d6a778138d"
      },
      "execution_count": 3,
      "outputs": [
        {
          "output_type": "stream",
          "name": "stdout",
          "text": [
            "Downloading iuss-23-24-automatic-diagnosis-breast-cancer.zip to /content\n",
            " 77% 226M/293M [00:00<00:00, 644MB/s] \n",
            "100% 293M/293M [00:00<00:00, 504MB/s]\n"
          ]
        }
      ]
    },
    {
      "cell_type": "code",
      "source": [
        "# Unzip files\n",
        "with zipfile.ZipFile(\"iuss-23-24-automatic-diagnosis-breast-cancer.zip\", 'r') as zip_ref:\n",
        "    zip_ref.extractall(\"breast_cancer_dataset\")\n",
        "\n",
        "# List the extracted files\n",
        "os.listdir(\"breast_cancer_dataset\")\n"
      ],
      "metadata": {
        "colab": {
          "base_uri": "https://localhost:8080/"
        },
        "id": "ahDo3ZKbVCy0",
        "outputId": "c9a38291-8929-4452-e865-0f05c1d46ccb"
      },
      "execution_count": 4,
      "outputs": [
        {
          "output_type": "execute_result",
          "data": {
            "text/plain": [
              "['training_set', 'complete_set']"
            ]
          },
          "metadata": {},
          "execution_count": 4
        }
      ]
    },
    {
      "cell_type": "code",
      "source": [
        "import pandas as pd\n",
        "import numpy as np\n",
        "import matplotlib.pyplot as plt\n",
        "import seaborn as sns\n",
        "\n",
        "from sklearn.model_selection import train_test_split\n",
        "from sklearn.ensemble import RandomForestClassifier\n",
        "from sklearn.metrics import accuracy_score, f1_score, classification_report\n"
      ],
      "metadata": {
        "id": "oWN-ABZtVG27"
      },
      "execution_count": 5,
      "outputs": []
    },
    {
      "cell_type": "code",
      "source": [
        "# Adjust path if needed\n",
        "df = pd.read_csv(\"breast_cancer_dataset/training_set/train.csv\")\n",
        "display(df.head())"
      ],
      "metadata": {
        "colab": {
          "base_uri": "https://localhost:8080/",
          "height": 333
        },
        "id": "AXchbMxVVI-W",
        "outputId": "e1463d79-84bd-435d-817d-72fc530c0873"
      },
      "execution_count": 8,
      "outputs": [
        {
          "output_type": "error",
          "ename": "FileNotFoundError",
          "evalue": "[Errno 2] No such file or directory: 'breast_cancer_dataset/training_set/train.csv'",
          "traceback": [
            "\u001b[0;31m---------------------------------------------------------------------------\u001b[0m",
            "\u001b[0;31mFileNotFoundError\u001b[0m                         Traceback (most recent call last)",
            "\u001b[0;32m/tmp/ipython-input-8-2586058111.py\u001b[0m in \u001b[0;36m<cell line: 0>\u001b[0;34m()\u001b[0m\n\u001b[1;32m      1\u001b[0m \u001b[0;31m# Adjust path if needed\u001b[0m\u001b[0;34m\u001b[0m\u001b[0;34m\u001b[0m\u001b[0m\n\u001b[0;32m----> 2\u001b[0;31m \u001b[0mdf\u001b[0m \u001b[0;34m=\u001b[0m \u001b[0mpd\u001b[0m\u001b[0;34m.\u001b[0m\u001b[0mread_csv\u001b[0m\u001b[0;34m(\u001b[0m\u001b[0;34m\"breast_cancer_dataset/training_set/train.csv\"\u001b[0m\u001b[0;34m)\u001b[0m\u001b[0;34m\u001b[0m\u001b[0;34m\u001b[0m\u001b[0m\n\u001b[0m\u001b[1;32m      3\u001b[0m \u001b[0mdisplay\u001b[0m\u001b[0;34m(\u001b[0m\u001b[0mdf\u001b[0m\u001b[0;34m.\u001b[0m\u001b[0mhead\u001b[0m\u001b[0;34m(\u001b[0m\u001b[0;34m)\u001b[0m\u001b[0;34m)\u001b[0m\u001b[0;34m\u001b[0m\u001b[0;34m\u001b[0m\u001b[0m\n",
            "\u001b[0;32m/usr/local/lib/python3.11/dist-packages/pandas/io/parsers/readers.py\u001b[0m in \u001b[0;36mread_csv\u001b[0;34m(filepath_or_buffer, sep, delimiter, header, names, index_col, usecols, dtype, engine, converters, true_values, false_values, skipinitialspace, skiprows, skipfooter, nrows, na_values, keep_default_na, na_filter, verbose, skip_blank_lines, parse_dates, infer_datetime_format, keep_date_col, date_parser, date_format, dayfirst, cache_dates, iterator, chunksize, compression, thousands, decimal, lineterminator, quotechar, quoting, doublequote, escapechar, comment, encoding, encoding_errors, dialect, on_bad_lines, delim_whitespace, low_memory, memory_map, float_precision, storage_options, dtype_backend)\u001b[0m\n\u001b[1;32m   1024\u001b[0m     \u001b[0mkwds\u001b[0m\u001b[0;34m.\u001b[0m\u001b[0mupdate\u001b[0m\u001b[0;34m(\u001b[0m\u001b[0mkwds_defaults\u001b[0m\u001b[0;34m)\u001b[0m\u001b[0;34m\u001b[0m\u001b[0;34m\u001b[0m\u001b[0m\n\u001b[1;32m   1025\u001b[0m \u001b[0;34m\u001b[0m\u001b[0m\n\u001b[0;32m-> 1026\u001b[0;31m     \u001b[0;32mreturn\u001b[0m \u001b[0m_read\u001b[0m\u001b[0;34m(\u001b[0m\u001b[0mfilepath_or_buffer\u001b[0m\u001b[0;34m,\u001b[0m \u001b[0mkwds\u001b[0m\u001b[0;34m)\u001b[0m\u001b[0;34m\u001b[0m\u001b[0;34m\u001b[0m\u001b[0m\n\u001b[0m\u001b[1;32m   1027\u001b[0m \u001b[0;34m\u001b[0m\u001b[0m\n\u001b[1;32m   1028\u001b[0m \u001b[0;34m\u001b[0m\u001b[0m\n",
            "\u001b[0;32m/usr/local/lib/python3.11/dist-packages/pandas/io/parsers/readers.py\u001b[0m in \u001b[0;36m_read\u001b[0;34m(filepath_or_buffer, kwds)\u001b[0m\n\u001b[1;32m    618\u001b[0m \u001b[0;34m\u001b[0m\u001b[0m\n\u001b[1;32m    619\u001b[0m     \u001b[0;31m# Create the parser.\u001b[0m\u001b[0;34m\u001b[0m\u001b[0;34m\u001b[0m\u001b[0m\n\u001b[0;32m--> 620\u001b[0;31m     \u001b[0mparser\u001b[0m \u001b[0;34m=\u001b[0m \u001b[0mTextFileReader\u001b[0m\u001b[0;34m(\u001b[0m\u001b[0mfilepath_or_buffer\u001b[0m\u001b[0;34m,\u001b[0m \u001b[0;34m**\u001b[0m\u001b[0mkwds\u001b[0m\u001b[0;34m)\u001b[0m\u001b[0;34m\u001b[0m\u001b[0;34m\u001b[0m\u001b[0m\n\u001b[0m\u001b[1;32m    621\u001b[0m \u001b[0;34m\u001b[0m\u001b[0m\n\u001b[1;32m    622\u001b[0m     \u001b[0;32mif\u001b[0m \u001b[0mchunksize\u001b[0m \u001b[0;32mor\u001b[0m \u001b[0miterator\u001b[0m\u001b[0;34m:\u001b[0m\u001b[0;34m\u001b[0m\u001b[0;34m\u001b[0m\u001b[0m\n",
            "\u001b[0;32m/usr/local/lib/python3.11/dist-packages/pandas/io/parsers/readers.py\u001b[0m in \u001b[0;36m__init__\u001b[0;34m(self, f, engine, **kwds)\u001b[0m\n\u001b[1;32m   1618\u001b[0m \u001b[0;34m\u001b[0m\u001b[0m\n\u001b[1;32m   1619\u001b[0m         \u001b[0mself\u001b[0m\u001b[0;34m.\u001b[0m\u001b[0mhandles\u001b[0m\u001b[0;34m:\u001b[0m \u001b[0mIOHandles\u001b[0m \u001b[0;34m|\u001b[0m \u001b[0;32mNone\u001b[0m \u001b[0;34m=\u001b[0m \u001b[0;32mNone\u001b[0m\u001b[0;34m\u001b[0m\u001b[0;34m\u001b[0m\u001b[0m\n\u001b[0;32m-> 1620\u001b[0;31m         \u001b[0mself\u001b[0m\u001b[0;34m.\u001b[0m\u001b[0m_engine\u001b[0m \u001b[0;34m=\u001b[0m \u001b[0mself\u001b[0m\u001b[0;34m.\u001b[0m\u001b[0m_make_engine\u001b[0m\u001b[0;34m(\u001b[0m\u001b[0mf\u001b[0m\u001b[0;34m,\u001b[0m \u001b[0mself\u001b[0m\u001b[0;34m.\u001b[0m\u001b[0mengine\u001b[0m\u001b[0;34m)\u001b[0m\u001b[0;34m\u001b[0m\u001b[0;34m\u001b[0m\u001b[0m\n\u001b[0m\u001b[1;32m   1621\u001b[0m \u001b[0;34m\u001b[0m\u001b[0m\n\u001b[1;32m   1622\u001b[0m     \u001b[0;32mdef\u001b[0m \u001b[0mclose\u001b[0m\u001b[0;34m(\u001b[0m\u001b[0mself\u001b[0m\u001b[0;34m)\u001b[0m \u001b[0;34m->\u001b[0m \u001b[0;32mNone\u001b[0m\u001b[0;34m:\u001b[0m\u001b[0;34m\u001b[0m\u001b[0;34m\u001b[0m\u001b[0m\n",
            "\u001b[0;32m/usr/local/lib/python3.11/dist-packages/pandas/io/parsers/readers.py\u001b[0m in \u001b[0;36m_make_engine\u001b[0;34m(self, f, engine)\u001b[0m\n\u001b[1;32m   1878\u001b[0m                 \u001b[0;32mif\u001b[0m \u001b[0;34m\"b\"\u001b[0m \u001b[0;32mnot\u001b[0m \u001b[0;32min\u001b[0m \u001b[0mmode\u001b[0m\u001b[0;34m:\u001b[0m\u001b[0;34m\u001b[0m\u001b[0;34m\u001b[0m\u001b[0m\n\u001b[1;32m   1879\u001b[0m                     \u001b[0mmode\u001b[0m \u001b[0;34m+=\u001b[0m \u001b[0;34m\"b\"\u001b[0m\u001b[0;34m\u001b[0m\u001b[0;34m\u001b[0m\u001b[0m\n\u001b[0;32m-> 1880\u001b[0;31m             self.handles = get_handle(\n\u001b[0m\u001b[1;32m   1881\u001b[0m                 \u001b[0mf\u001b[0m\u001b[0;34m,\u001b[0m\u001b[0;34m\u001b[0m\u001b[0;34m\u001b[0m\u001b[0m\n\u001b[1;32m   1882\u001b[0m                 \u001b[0mmode\u001b[0m\u001b[0;34m,\u001b[0m\u001b[0;34m\u001b[0m\u001b[0;34m\u001b[0m\u001b[0m\n",
            "\u001b[0;32m/usr/local/lib/python3.11/dist-packages/pandas/io/common.py\u001b[0m in \u001b[0;36mget_handle\u001b[0;34m(path_or_buf, mode, encoding, compression, memory_map, is_text, errors, storage_options)\u001b[0m\n\u001b[1;32m    871\u001b[0m         \u001b[0;32mif\u001b[0m \u001b[0mioargs\u001b[0m\u001b[0;34m.\u001b[0m\u001b[0mencoding\u001b[0m \u001b[0;32mand\u001b[0m \u001b[0;34m\"b\"\u001b[0m \u001b[0;32mnot\u001b[0m \u001b[0;32min\u001b[0m \u001b[0mioargs\u001b[0m\u001b[0;34m.\u001b[0m\u001b[0mmode\u001b[0m\u001b[0;34m:\u001b[0m\u001b[0;34m\u001b[0m\u001b[0;34m\u001b[0m\u001b[0m\n\u001b[1;32m    872\u001b[0m             \u001b[0;31m# Encoding\u001b[0m\u001b[0;34m\u001b[0m\u001b[0;34m\u001b[0m\u001b[0m\n\u001b[0;32m--> 873\u001b[0;31m             handle = open(\n\u001b[0m\u001b[1;32m    874\u001b[0m                 \u001b[0mhandle\u001b[0m\u001b[0;34m,\u001b[0m\u001b[0;34m\u001b[0m\u001b[0;34m\u001b[0m\u001b[0m\n\u001b[1;32m    875\u001b[0m                 \u001b[0mioargs\u001b[0m\u001b[0;34m.\u001b[0m\u001b[0mmode\u001b[0m\u001b[0;34m,\u001b[0m\u001b[0;34m\u001b[0m\u001b[0;34m\u001b[0m\u001b[0m\n",
            "\u001b[0;31mFileNotFoundError\u001b[0m: [Errno 2] No such file or directory: 'breast_cancer_dataset/training_set/train.csv'"
          ]
        }
      ]
    },
    {
      "cell_type": "code",
      "metadata": {
        "colab": {
          "base_uri": "https://localhost:8080/"
        },
        "id": "2b1d342a",
        "outputId": "7cc32df4-2bf6-4811-c30d-148252579e7a"
      },
      "source": [
        "import os\n",
        "print(os.listdir(\"breast_cancer_dataset/training_set\"))"
      ],
      "execution_count": 9,
      "outputs": [
        {
          "output_type": "stream",
          "name": "stdout",
          "text": [
            "['malignant', 'benign']\n"
          ]
        }
      ]
    },
    {
      "cell_type": "code",
      "source": [
        "df.info()\n",
        "df.describe()\n",
        "df.isnull().sum()\n",
        "df.nunique()\n"
      ],
      "metadata": {
        "colab": {
          "base_uri": "https://localhost:8080/",
          "height": 190
        },
        "id": "O0m5waBYVvlU",
        "outputId": "57461a3d-8ba1-4a26-b8be-76957e21f20d"
      },
      "execution_count": 10,
      "outputs": [
        {
          "output_type": "error",
          "ename": "NameError",
          "evalue": "name 'df' is not defined",
          "traceback": [
            "\u001b[0;31m---------------------------------------------------------------------------\u001b[0m",
            "\u001b[0;31mNameError\u001b[0m                                 Traceback (most recent call last)",
            "\u001b[0;32m/tmp/ipython-input-10-1381112690.py\u001b[0m in \u001b[0;36m<cell line: 0>\u001b[0;34m()\u001b[0m\n\u001b[0;32m----> 1\u001b[0;31m \u001b[0mdf\u001b[0m\u001b[0;34m.\u001b[0m\u001b[0minfo\u001b[0m\u001b[0;34m(\u001b[0m\u001b[0;34m)\u001b[0m\u001b[0;34m\u001b[0m\u001b[0;34m\u001b[0m\u001b[0m\n\u001b[0m\u001b[1;32m      2\u001b[0m \u001b[0mdf\u001b[0m\u001b[0;34m.\u001b[0m\u001b[0mdescribe\u001b[0m\u001b[0;34m(\u001b[0m\u001b[0;34m)\u001b[0m\u001b[0;34m\u001b[0m\u001b[0;34m\u001b[0m\u001b[0m\n\u001b[1;32m      3\u001b[0m \u001b[0mdf\u001b[0m\u001b[0;34m.\u001b[0m\u001b[0misnull\u001b[0m\u001b[0;34m(\u001b[0m\u001b[0;34m)\u001b[0m\u001b[0;34m.\u001b[0m\u001b[0msum\u001b[0m\u001b[0;34m(\u001b[0m\u001b[0;34m)\u001b[0m\u001b[0;34m\u001b[0m\u001b[0;34m\u001b[0m\u001b[0m\n\u001b[1;32m      4\u001b[0m \u001b[0mdf\u001b[0m\u001b[0;34m.\u001b[0m\u001b[0mnunique\u001b[0m\u001b[0;34m(\u001b[0m\u001b[0;34m)\u001b[0m\u001b[0;34m\u001b[0m\u001b[0;34m\u001b[0m\u001b[0m\n",
            "\u001b[0;31mNameError\u001b[0m: name 'df' is not defined"
          ]
        }
      ]
    },
    {
      "cell_type": "markdown",
      "metadata": {
        "id": "92e96605"
      },
      "source": [
        "# Task\n",
        "Fix the error in the provided code for training an image classification model on the \"training_set\" dataset, which contains \"malignant\" and \"benign\" subdirectories."
      ]
    },
    {
      "cell_type": "markdown",
      "metadata": {
        "id": "027a3ec7"
      },
      "source": [
        "## Explore training data structure\n",
        "\n",
        "### Subtask:\n",
        "List the files in the 'malignant' and 'benign' subdirectories within the 'training_set' directory to understand the file naming conventions and organization of the image data.\n"
      ]
    },
    {
      "cell_type": "markdown",
      "metadata": {
        "id": "67f4e7b3"
      },
      "source": [
        "**Reasoning**:\n",
        "List the files in the 'malignant' and 'benign' subdirectories within the 'training_set' directory to understand the file naming conventions and organization of the image data.\n",
        "\n"
      ]
    },
    {
      "cell_type": "code",
      "metadata": {
        "colab": {
          "base_uri": "https://localhost:8080/"
        },
        "id": "2eda3dba",
        "outputId": "96f5edaf-b7b3-41d5-d047-372b53e56df8"
      },
      "source": [
        "import os\n",
        "print(\"Files in malignant directory:\")\n",
        "print(os.listdir(\"breast_cancer_dataset/training_set/malignant\")[:5]) # Print first 5 to avoid flooding output\n",
        "print(\"\\nFiles in benign directory:\")\n",
        "print(os.listdir(\"breast_cancer_dataset/training_set/benign\")[:5]) # Print first 5"
      ],
      "execution_count": 11,
      "outputs": [
        {
          "output_type": "stream",
          "name": "stdout",
          "text": [
            "Files in malignant directory:\n",
            "['malignant (34).png', 'malignant (60)_mask.png', 'malignant (132).png', 'malignant (69).png', 'malignant (68)_mask.png']\n",
            "\n",
            "Files in benign directory:\n",
            "['benign (303)_mask.png', 'benign (253)_mask.png', 'benign (219).png', 'benign (84)_mask.png', 'benign (362).png']\n"
          ]
        }
      ]
    },
    {
      "cell_type": "markdown",
      "metadata": {
        "id": "a5ac6391"
      },
      "source": [
        "## Load and preprocess image data\n",
        "\n",
        "### Subtask:\n",
        "Based on the data structure, load the image files and their corresponding labels. This may involve iterating through the directories, reading image files, and creating labels based on the directory names.\n"
      ]
    },
    {
      "cell_type": "markdown",
      "metadata": {
        "id": "f4c45c18"
      },
      "source": [
        "**Reasoning**:\n",
        "Load the image files and their corresponding labels from the 'malignant' and 'benign' directories, excluding mask files, resize them, and store them as NumPy arrays.\n",
        "\n"
      ]
    },
    {
      "cell_type": "code",
      "metadata": {
        "colab": {
          "base_uri": "https://localhost:8080/"
        },
        "id": "3d178141",
        "outputId": "62c36d1d-4069-4d33-8ad2-460630a8195e"
      },
      "source": [
        "import cv2\n",
        "from PIL import Image\n",
        "\n",
        "image_data = []\n",
        "labels = []\n",
        "image_size = (128, 128) # Define the desired image size\n",
        "\n",
        "malignant_dir = \"breast_cancer_dataset/training_set/malignant\"\n",
        "benign_dir = \"breast_cancer_dataset/training_set/benign\"\n",
        "\n",
        "# Load malignant images\n",
        "for filename in os.listdir(malignant_dir):\n",
        "    if filename.endswith(\".png\") and \"_mask.png\" not in filename:\n",
        "        filepath = os.path.join(malignant_dir, filename)\n",
        "        img = cv2.imread(filepath)\n",
        "        img = cv2.resize(img, image_size)\n",
        "        image_data.append(img)\n",
        "        labels.append(1) # Use 1 for malignant\n",
        "\n",
        "# Load benign images\n",
        "for filename in os.listdir(benign_dir):\n",
        "    if filename.endswith(\".png\") and \"_mask.png\" not in filename:\n",
        "        filepath = os.path.join(benign_dir, filename)\n",
        "        img = cv2.imread(filepath)\n",
        "        img = cv2.resize(img, image_size)\n",
        "        image_data.append(img)\n",
        "        labels.append(0) # Use 0 for benign\n",
        "\n",
        "image_data = np.array(image_data)\n",
        "labels = np.array(labels)\n",
        "\n",
        "print(\"Image data shape:\", image_data.shape)\n",
        "print(\"Labels shape:\", labels.shape)"
      ],
      "execution_count": 12,
      "outputs": [
        {
          "output_type": "stream",
          "name": "stdout",
          "text": [
            "Image data shape: (565, 128, 128, 3)\n",
            "Labels shape: (565,)\n"
          ]
        }
      ]
    },
    {
      "cell_type": "markdown",
      "metadata": {
        "id": "0b17fa10"
      },
      "source": [
        "## Prepare data for model training\n",
        "\n",
        "### Subtask:\n",
        "Split the data into training and validation sets, and apply any necessary preprocessing steps such as resizing images, normalization, or data augmentation.\n"
      ]
    },
    {
      "cell_type": "markdown",
      "metadata": {
        "id": "6f30d3e7"
      },
      "source": [
        "**Reasoning**:\n",
        "Split the image data and labels into training and validation sets and normalize the pixel values.\n",
        "\n"
      ]
    },
    {
      "cell_type": "code",
      "metadata": {
        "colab": {
          "base_uri": "https://localhost:8080/"
        },
        "id": "82fd6960",
        "outputId": "c702cf8d-d93d-4250-80c1-6bb8c04cb151"
      },
      "source": [
        "X_train, X_val, y_train, y_val = train_test_split(image_data, labels, test_size=0.2, random_state=42)\n",
        "\n",
        "X_train = X_train / 255.0\n",
        "X_val = X_val / 255.0\n",
        "\n",
        "print(\"Training data shape:\", X_train.shape)\n",
        "print(\"Validation data shape:\", X_val.shape)"
      ],
      "execution_count": 13,
      "outputs": [
        {
          "output_type": "stream",
          "name": "stdout",
          "text": [
            "Training data shape: (452, 128, 128, 3)\n",
            "Validation data shape: (113, 128, 128, 3)\n"
          ]
        }
      ]
    },
    {
      "cell_type": "markdown",
      "metadata": {
        "id": "c7904cf2"
      },
      "source": [
        "## Build and train a model\n",
        "\n",
        "### Subtask:\n",
        "Define and train a suitable model for image classification, such as a convolutional neural network (CNN).\n"
      ]
    },
    {
      "cell_type": "markdown",
      "metadata": {
        "id": "6ee25c74"
      },
      "source": [
        "**Reasoning**:\n",
        "Import necessary libraries and define, compile, and train a CNN model for image classification.\n",
        "\n"
      ]
    },
    {
      "cell_type": "code",
      "metadata": {
        "colab": {
          "base_uri": "https://localhost:8080/"
        },
        "id": "35c4f567",
        "outputId": "e2de7cfd-7e41-44ab-d8e8-91179407f8f5"
      },
      "source": [
        "from tensorflow.keras.models import Sequential\n",
        "from tensorflow.keras.layers import Conv2D, MaxPooling2D, Flatten, Dense, Dropout\n",
        "\n",
        "model = Sequential([\n",
        "    Conv2D(32, (3, 3), activation='relu', input_shape=(image_size[0], image_size[1], 3)),\n",
        "    MaxPooling2D((2, 2)),\n",
        "    Conv2D(64, (3, 3), activation='relu'),\n",
        "    MaxPooling2D((2, 2)),\n",
        "    Conv2D(128, (3, 3), activation='relu'),\n",
        "    MaxPooling2D((2, 2)),\n",
        "    Flatten(),\n",
        "    Dense(128, activation='relu'),\n",
        "    Dropout(0.5),\n",
        "    Dense(1, activation='sigmoid')\n",
        "])\n",
        "\n",
        "model.compile(optimizer='adam',\n",
        "              loss='binary_crossentropy',\n",
        "              metrics=['accuracy'])\n",
        "\n",
        "history = model.fit(X_train, y_train, epochs=10, batch_size=32, validation_data=(X_val, y_val))"
      ],
      "execution_count": null,
      "outputs": [
        {
          "output_type": "stream",
          "name": "stderr",
          "text": [
            "/usr/local/lib/python3.11/dist-packages/keras/src/layers/convolutional/base_conv.py:107: UserWarning: Do not pass an `input_shape`/`input_dim` argument to a layer. When using Sequential models, prefer using an `Input(shape)` object as the first layer in the model instead.\n",
            "  super().__init__(activity_regularizer=activity_regularizer, **kwargs)\n"
          ]
        },
        {
          "output_type": "stream",
          "name": "stdout",
          "text": [
            "Epoch 1/10\n",
            "\u001b[1m15/15\u001b[0m \u001b[32m━━━━━━━━━━━━━━━━━━━━\u001b[0m\u001b[37m\u001b[0m \u001b[1m17s\u001b[0m 978ms/step - accuracy: 0.7206 - loss: 0.6888 - val_accuracy: 0.6549 - val_loss: 0.6013\n",
            "Epoch 2/10\n",
            "\u001b[1m15/15\u001b[0m \u001b[32m━━━━━━━━━━━━━━━━━━━━\u001b[0m\u001b[37m\u001b[0m \u001b[1m19s\u001b[0m 919ms/step - accuracy: 0.7239 - loss: 0.5516 - val_accuracy: 0.6549 - val_loss: 0.5504\n",
            "Epoch 3/10\n",
            "\u001b[1m15/15\u001b[0m \u001b[32m━━━━━━━━━━━━━━━━━━━━\u001b[0m\u001b[37m\u001b[0m \u001b[1m14s\u001b[0m 951ms/step - accuracy: 0.7219 - loss: 0.5509 - val_accuracy: 0.7345 - val_loss: 0.5110\n",
            "Epoch 4/10\n",
            "\u001b[1m15/15\u001b[0m \u001b[32m━━━━━━━━━━━━━━━━━━━━\u001b[0m\u001b[37m\u001b[0m \u001b[1m22s\u001b[0m 1s/step - accuracy: 0.7795 - loss: 0.4734 - val_accuracy: 0.7876 - val_loss: 0.5014\n",
            "Epoch 5/10\n",
            "\u001b[1m 5/15\u001b[0m \u001b[32m━━━━━━\u001b[0m\u001b[37m━━━━━━━━━━━━━━\u001b[0m \u001b[1m8s\u001b[0m 816ms/step - accuracy: 0.7819 - loss: 0.5061"
          ]
        }
      ]
    },
    {
      "cell_type": "markdown",
      "metadata": {
        "id": "df5216a0"
      },
      "source": [
        "**Reasoning**:\n",
        "Continue training the model for the remaining epochs.\n",
        "\n"
      ]
    },
    {
      "cell_type": "code",
      "metadata": {
        "colab": {
          "base_uri": "https://localhost:8080/"
        },
        "id": "7m75Z5oUX9Xp",
        "outputId": "5353c92c-17ca-4767-9dad-5451c3a022e9"
      },
      "source": [
        "history = model.fit(X_train, y_train, epochs=5, batch_size=32, validation_data=(X_val, y_val))"
      ],
      "execution_count": 15,
      "outputs": [
        {
          "output_type": "stream",
          "name": "stdout",
          "text": [
            "Epoch 1/5\n",
            "\u001b[1m15/15\u001b[0m \u001b[32m━━━━━━━━━━━━━━━━━━━━\u001b[0m\u001b[37m\u001b[0m \u001b[1m23s\u001b[0m 1s/step - accuracy: 0.9145 - loss: 0.2019 - val_accuracy: 0.8142 - val_loss: 0.5741\n",
            "Epoch 2/5\n",
            "\u001b[1m15/15\u001b[0m \u001b[32m━━━━━━━━━━━━━━━━━━━━\u001b[0m\u001b[37m\u001b[0m \u001b[1m33s\u001b[0m 925ms/step - accuracy: 0.9372 - loss: 0.1552 - val_accuracy: 0.8142 - val_loss: 0.7269\n",
            "Epoch 3/5\n",
            "\u001b[1m15/15\u001b[0m \u001b[32m━━━━━━━━━━━━━━━━━━━━\u001b[0m\u001b[37m\u001b[0m \u001b[1m20s\u001b[0m 945ms/step - accuracy: 0.9548 - loss: 0.1129 - val_accuracy: 0.8584 - val_loss: 0.5327\n",
            "Epoch 4/5\n",
            "\u001b[1m15/15\u001b[0m \u001b[32m━━━━━━━━━━━━━━━━━━━━\u001b[0m\u001b[37m\u001b[0m \u001b[1m20s\u001b[0m 948ms/step - accuracy: 0.9625 - loss: 0.0963 - val_accuracy: 0.8142 - val_loss: 0.7412\n",
            "Epoch 5/5\n",
            "\u001b[1m15/15\u001b[0m \u001b[32m━━━━━━━━━━━━━━━━━━━━\u001b[0m\u001b[37m\u001b[0m \u001b[1m23s\u001b[0m 1s/step - accuracy: 0.9652 - loss: 0.1063 - val_accuracy: 0.8142 - val_loss: 0.6395\n"
          ]
        }
      ]
    },
    {
      "cell_type": "markdown",
      "metadata": {
        "id": "930b4883"
      },
      "source": [
        "## Evaluate the model\n",
        "\n",
        "### Subtask:\n",
        "Evaluate the performance of the trained model using appropriate metrics like accuracy, precision, recall, and F1-score.\n"
      ]
    },
    {
      "cell_type": "markdown",
      "metadata": {
        "id": "9ebc0a19"
      },
      "source": [
        "**Reasoning**:\n",
        "Use the trained model to predict on the validation data and then calculate and print the accuracy and classification report.\n",
        "\n"
      ]
    },
    {
      "cell_type": "code",
      "metadata": {
        "colab": {
          "base_uri": "https://localhost:8080/"
        },
        "id": "91a3ef94",
        "outputId": "1446e51a-c9f0-4f92-85b1-e920488b3af2"
      },
      "source": [
        "y_pred = model.predict(X_val)\n",
        "y_pred_classes = (y_pred > 0.5).astype(int)\n",
        "\n",
        "accuracy = accuracy_score(y_val, y_pred_classes)\n",
        "report = classification_report(y_val, y_pred_classes, target_names=['benign', 'malignant'])\n",
        "\n",
        "print(f\"Accuracy: {accuracy}\")\n",
        "print(\"Classification Report:\")\n",
        "print(report)"
      ],
      "execution_count": 16,
      "outputs": [
        {
          "output_type": "stream",
          "name": "stdout",
          "text": [
            "\u001b[1m4/4\u001b[0m \u001b[32m━━━━━━━━━━━━━━━━━━━━\u001b[0m\u001b[37m\u001b[0m \u001b[1m2s\u001b[0m 457ms/step\n",
            "Accuracy: 0.8141592920353983\n",
            "Classification Report:\n",
            "              precision    recall  f1-score   support\n",
            "\n",
            "      benign       0.85      0.86      0.86        74\n",
            "   malignant       0.74      0.72      0.73        39\n",
            "\n",
            "    accuracy                           0.81       113\n",
            "   macro avg       0.80      0.79      0.79       113\n",
            "weighted avg       0.81      0.81      0.81       113\n",
            "\n"
          ]
        }
      ]
    },
    {
      "cell_type": "markdown",
      "metadata": {
        "id": "b8d9ce10"
      },
      "source": [
        "## Summary:\n",
        "\n",
        "### Data Analysis Key Findings\n",
        "\n",
        "*   The training dataset is organized into 'malignant' and 'benign' subdirectories, containing PNG image files, some with \"\\_mask.png\" suffixes.\n",
        "*   565 images were loaded, excluding mask files, and resized to 128x128 pixels.\n",
        "*   The dataset was split into training and validation sets, with pixel values normalized by dividing by 255.0. The training data has a shape of (452, 128, 128, 3) and the validation data has a shape of (113, 128, 128, 3).\n",
        "*   A CNN model was defined and trained for 10 epochs using the Adam optimizer and binary crossentropy loss.\n",
        "*   The model achieved an accuracy of approximately 0.814 on the validation data. The classification report provided precision, recall, and F1-scores for both \"benign\" and \"malignant\" classes.\n",
        "\n",
        "### Insights or Next Steps\n",
        "\n",
        "*   Investigate potential overfitting indicated by fluctuating validation accuracy and explore techniques like data augmentation or dropout layers to improve generalization.\n",
        "*   Analyze the classification report to understand the model's performance on each class and identify areas for improvement, potentially by adjusting class weights or exploring different model architectures.\n"
      ]
    },
    {
      "cell_type": "markdown",
      "metadata": {
        "id": "f1139eff"
      },
      "source": [
        "## Explore training data structure\n",
        "\n",
        "### Subtask:\n",
        "List the files in the 'malignant' and 'benign' subdirectories within the 'training_set' directory to understand the file naming conventions and organization of the image data."
      ]
    },
    {
      "cell_type": "markdown",
      "metadata": {
        "id": "7ac19c74"
      },
      "source": [
        "**Reasoning**:\n",
        "List the files in the 'malignant' and 'benign' subdirectories within the 'training_set' directory to understand the file naming conventions and organization of the image data."
      ]
    },
    {
      "cell_type": "code",
      "metadata": {
        "colab": {
          "base_uri": "https://localhost:8080/"
        },
        "id": "3ebd38c7",
        "outputId": "722b386f-8ffc-41ba-e0cb-f23e9aae0a95"
      },
      "source": [
        "import os\n",
        "print(\"Files in malignant directory:\")\n",
        "print(os.listdir(\"breast_cancer_dataset/training_set/malignant\")[:5]) # Print first 5 to avoid flooding output\n",
        "print(\"\\nFiles in benign directory:\")\n",
        "print(os.listdir(\"breast_cancer_dataset/training_set/benign\")[:5]) # Print first 5"
      ],
      "execution_count": 17,
      "outputs": [
        {
          "output_type": "stream",
          "name": "stdout",
          "text": [
            "Files in malignant directory:\n",
            "['malignant (34).png', 'malignant (60)_mask.png', 'malignant (132).png', 'malignant (69).png', 'malignant (68)_mask.png']\n",
            "\n",
            "Files in benign directory:\n",
            "['benign (303)_mask.png', 'benign (253)_mask.png', 'benign (219).png', 'benign (84)_mask.png', 'benign (362).png']\n"
          ]
        }
      ]
    },
    {
      "cell_type": "markdown",
      "metadata": {
        "id": "2de5232f"
      },
      "source": [
        "## Load and preprocess image data\n",
        "\n",
        "### Subtask:\n",
        "Based on the data structure, load the image files and their corresponding labels. This may involve iterating through the directories, reading image files, and creating labels based on the directory names."
      ]
    },
    {
      "cell_type": "markdown",
      "metadata": {
        "id": "c8f9c196"
      },
      "source": [
        "**Reasoning**:\n",
        "Load the image files and their corresponding labels from the 'malignant' and 'benign' directories, excluding mask files, resize them, and store them as NumPy arrays."
      ]
    },
    {
      "cell_type": "code",
      "metadata": {
        "colab": {
          "base_uri": "https://localhost:8080/"
        },
        "id": "11230790",
        "outputId": "78dd888a-56dc-49d6-cea1-8096940c194c"
      },
      "source": [
        "import cv2\n",
        "from PIL import Image\n",
        "import numpy as np\n",
        "import os\n",
        "\n",
        "image_data = []\n",
        "labels = []\n",
        "image_size = (128, 128) # Define the desired image size\n",
        "\n",
        "malignant_dir = \"breast_cancer_dataset/training_set/malignant\"\n",
        "benign_dir = \"breast_cancer_dataset/training_set/benign\"\n",
        "\n",
        "# Load malignant images\n",
        "for filename in os.listdir(malignant_dir):\n",
        "    if filename.endswith(\".png\") and \"_mask.png\" not in filename:\n",
        "        filepath = os.path.join(malignant_dir, filename)\n",
        "        img = cv2.imread(filepath)\n",
        "        img = cv2.resize(img, image_size)\n",
        "        image_data.append(img)\n",
        "        labels.append(1) # Use 1 for malignant\n",
        "\n",
        "# Load benign images\n",
        "for filename in os.listdir(benign_dir):\n",
        "    if filename.endswith(\".png\") and \"_mask.png\" not in filename:\n",
        "        filepath = os.path.join(benign_dir, filename)\n",
        "        img = cv2.imread(filepath)\n",
        "        img = cv2.resize(img, image_size)\n",
        "        image_data.append(img)\n",
        "        labels.append(0) # Use 0 for benign\n",
        "\n",
        "image_data = np.array(image_data)\n",
        "labels = np.array(labels)\n",
        "\n",
        "print(\"Image data shape:\", image_data.shape)\n",
        "print(\"Labels shape:\", labels.shape)"
      ],
      "execution_count": 18,
      "outputs": [
        {
          "output_type": "stream",
          "name": "stdout",
          "text": [
            "Image data shape: (565, 128, 128, 3)\n",
            "Labels shape: (565,)\n"
          ]
        }
      ]
    },
    {
      "cell_type": "markdown",
      "metadata": {
        "id": "9209c9d4"
      },
      "source": [
        "## Prepare data for model training\n",
        "\n",
        "### Subtask:\n",
        "Split the data into training and validation sets, and apply any necessary preprocessing steps such as resizing images, normalization, or data augmentation."
      ]
    },
    {
      "cell_type": "markdown",
      "metadata": {
        "id": "4257381b"
      },
      "source": [
        "**Reasoning**:\n",
        "Split the image data and labels into training and validation sets and normalize the pixel values."
      ]
    },
    {
      "cell_type": "code",
      "metadata": {
        "colab": {
          "base_uri": "https://localhost:8080/"
        },
        "id": "3aa58129",
        "outputId": "2484b9c1-a085-48b7-d118-9941b89969ef"
      },
      "source": [
        "from sklearn.model_selection import train_test_split\n",
        "\n",
        "X_train, X_val, y_train, y_val = train_test_split(image_data, labels, test_size=0.2, random_state=42)\n",
        "\n",
        "X_train = X_train / 255.0\n",
        "X_val = X_val / 255.0\n",
        "\n",
        "print(\"Training data shape:\", X_train.shape)\n",
        "print(\"Validation data shape:\", X_val.shape)"
      ],
      "execution_count": 19,
      "outputs": [
        {
          "output_type": "stream",
          "name": "stdout",
          "text": [
            "Training data shape: (452, 128, 128, 3)\n",
            "Validation data shape: (113, 128, 128, 3)\n"
          ]
        }
      ]
    },
    {
      "cell_type": "markdown",
      "metadata": {
        "id": "796075c9"
      },
      "source": [
        "## Build and train a model\n",
        "\n",
        "### Subtask:\n",
        "Define and train a suitable model for image classification, such as a convolutional neural network (CNN)."
      ]
    },
    {
      "cell_type": "markdown",
      "metadata": {
        "id": "15cd622d"
      },
      "source": [
        "**Reasoning**:\n",
        "Import necessary libraries and define, compile, and train a CNN model for image classification."
      ]
    },
    {
      "cell_type": "code",
      "metadata": {
        "colab": {
          "base_uri": "https://localhost:8080/"
        },
        "id": "e0f22a39",
        "outputId": "20296a8b-0502-4286-c8be-66f6b4b8f7eb"
      },
      "source": [
        "from tensorflow.keras.models import Sequential\n",
        "from tensorflow.keras.layers import Conv2D, MaxPooling2D, Flatten, Dense, Dropout\n",
        "\n",
        "model = Sequential([\n",
        "    Conv2D(32, (3, 3), activation='relu', input_shape=(image_size[0], image_size[1], 3)),\n",
        "    MaxPooling2D((2, 2)),\n",
        "    Conv2D(64, (3, 3), activation='relu'),\n",
        "    MaxPooling2D((2, 2)),\n",
        "    Conv2D(128, (3, 3), activation='relu'),\n",
        "    MaxPooling2D((2, 2)),\n",
        "    Flatten(),\n",
        "    Dense(128, activation='relu'),\n",
        "    Dropout(0.5),\n",
        "    Dense(1, activation='sigmoid')\n",
        "])\n",
        "\n",
        "model.compile(optimizer='adam',\n",
        "              loss='binary_crossentropy',\n",
        "              metrics=['accuracy'])\n",
        "\n",
        "history = model.fit(X_train, y_train, epochs=10, batch_size=32, validation_data=(X_val, y_val))"
      ],
      "execution_count": 20,
      "outputs": [
        {
          "output_type": "stream",
          "name": "stderr",
          "text": [
            "/usr/local/lib/python3.11/dist-packages/keras/src/layers/convolutional/base_conv.py:107: UserWarning: Do not pass an `input_shape`/`input_dim` argument to a layer. When using Sequential models, prefer using an `Input(shape)` object as the first layer in the model instead.\n",
            "  super().__init__(activity_regularizer=activity_regularizer, **kwargs)\n"
          ]
        },
        {
          "output_type": "stream",
          "name": "stdout",
          "text": [
            "Epoch 1/10\n",
            "\u001b[1m15/15\u001b[0m \u001b[32m━━━━━━━━━━━━━━━━━━━━\u001b[0m\u001b[37m\u001b[0m \u001b[1m17s\u001b[0m 992ms/step - accuracy: 0.6414 - loss: 0.6669 - val_accuracy: 0.6549 - val_loss: 0.6233\n",
            "Epoch 2/10\n",
            "\u001b[1m15/15\u001b[0m \u001b[32m━━━━━━━━━━━━━━━━━━━━\u001b[0m\u001b[37m\u001b[0m \u001b[1m24s\u001b[0m 1s/step - accuracy: 0.7471 - loss: 0.5385 - val_accuracy: 0.6549 - val_loss: 0.5882\n",
            "Epoch 3/10\n",
            "\u001b[1m15/15\u001b[0m \u001b[32m━━━━━━━━━━━━━━━━━━━━\u001b[0m\u001b[37m\u001b[0m \u001b[1m16s\u001b[0m 957ms/step - accuracy: 0.7322 - loss: 0.5150 - val_accuracy: 0.6637 - val_loss: 0.5553\n",
            "Epoch 4/10\n",
            "\u001b[1m15/15\u001b[0m \u001b[32m━━━━━━━━━━━━━━━━━━━━\u001b[0m\u001b[37m\u001b[0m \u001b[1m21s\u001b[0m 970ms/step - accuracy: 0.7313 - loss: 0.5106 - val_accuracy: 0.7699 - val_loss: 0.4606\n",
            "Epoch 5/10\n",
            "\u001b[1m15/15\u001b[0m \u001b[32m━━━━━━━━━━━━━━━━━━━━\u001b[0m\u001b[37m\u001b[0m \u001b[1m14s\u001b[0m 928ms/step - accuracy: 0.7609 - loss: 0.5069 - val_accuracy: 0.6637 - val_loss: 0.5030\n",
            "Epoch 6/10\n",
            "\u001b[1m15/15\u001b[0m \u001b[32m━━━━━━━━━━━━━━━━━━━━\u001b[0m\u001b[37m\u001b[0m \u001b[1m21s\u001b[0m 964ms/step - accuracy: 0.7689 - loss: 0.4343 - val_accuracy: 0.7699 - val_loss: 0.4637\n",
            "Epoch 7/10\n",
            "\u001b[1m15/15\u001b[0m \u001b[32m━━━━━━━━━━━━━━━━━━━━\u001b[0m\u001b[37m\u001b[0m \u001b[1m21s\u001b[0m 979ms/step - accuracy: 0.8128 - loss: 0.3893 - val_accuracy: 0.8496 - val_loss: 0.4221\n",
            "Epoch 8/10\n",
            "\u001b[1m15/15\u001b[0m \u001b[32m━━━━━━━━━━━━━━━━━━━━\u001b[0m\u001b[37m\u001b[0m \u001b[1m20s\u001b[0m 955ms/step - accuracy: 0.8205 - loss: 0.4207 - val_accuracy: 0.7611 - val_loss: 0.5772\n",
            "Epoch 9/10\n",
            "\u001b[1m15/15\u001b[0m \u001b[32m━━━━━━━━━━━━━━━━━━━━\u001b[0m\u001b[37m\u001b[0m \u001b[1m20s\u001b[0m 945ms/step - accuracy: 0.8526 - loss: 0.3229 - val_accuracy: 0.8496 - val_loss: 0.4155\n",
            "Epoch 10/10\n",
            "\u001b[1m15/15\u001b[0m \u001b[32m━━━━━━━━━━━━━━━━━━━━\u001b[0m\u001b[37m\u001b[0m \u001b[1m20s\u001b[0m 924ms/step - accuracy: 0.8692 - loss: 0.2907 - val_accuracy: 0.8230 - val_loss: 0.4208\n"
          ]
        }
      ]
    },
    {
      "cell_type": "markdown",
      "metadata": {
        "id": "d760a6fb"
      },
      "source": [
        "**Reasoning**:\n",
        "Continue training the model for the remaining epochs."
      ]
    },
    {
      "cell_type": "code",
      "metadata": {
        "colab": {
          "base_uri": "https://localhost:8080/"
        },
        "id": "5cfcb23d",
        "outputId": "736be708-d6ce-42e6-cb7d-0194021a3bec"
      },
      "source": [
        "history = model.fit(X_train, y_train, epochs=5, batch_size=32, validation_data=(X_val, y_val))"
      ],
      "execution_count": 21,
      "outputs": [
        {
          "output_type": "stream",
          "name": "stdout",
          "text": [
            "Epoch 1/5\n",
            "\u001b[1m15/15\u001b[0m \u001b[32m━━━━━━━━━━━━━━━━━━━━\u001b[0m\u001b[37m\u001b[0m \u001b[1m14s\u001b[0m 965ms/step - accuracy: 0.8662 - loss: 0.2626 - val_accuracy: 0.8584 - val_loss: 0.3888\n",
            "Epoch 2/5\n",
            "\u001b[1m15/15\u001b[0m \u001b[32m━━━━━━━━━━━━━━━━━━━━\u001b[0m\u001b[37m\u001b[0m \u001b[1m14s\u001b[0m 968ms/step - accuracy: 0.9076 - loss: 0.1990 - val_accuracy: 0.8496 - val_loss: 0.5021\n",
            "Epoch 3/5\n",
            "\u001b[1m15/15\u001b[0m \u001b[32m━━━━━━━━━━━━━━━━━━━━\u001b[0m\u001b[37m\u001b[0m \u001b[1m24s\u001b[0m 1s/step - accuracy: 0.9445 - loss: 0.1723 - val_accuracy: 0.8407 - val_loss: 0.5289\n",
            "Epoch 4/5\n",
            "\u001b[1m15/15\u001b[0m \u001b[32m━━━━━━━━━━━━━━━━━━━━\u001b[0m\u001b[37m\u001b[0m \u001b[1m18s\u001b[0m 968ms/step - accuracy: 0.9368 - loss: 0.1699 - val_accuracy: 0.8673 - val_loss: 0.4772\n",
            "Epoch 5/5\n",
            "\u001b[1m15/15\u001b[0m \u001b[32m━━━━━━━━━━━━━━━━━━━━\u001b[0m\u001b[37m\u001b[0m \u001b[1m19s\u001b[0m 919ms/step - accuracy: 0.9547 - loss: 0.1146 - val_accuracy: 0.8230 - val_loss: 0.5147\n"
          ]
        }
      ]
    },
    {
      "cell_type": "markdown",
      "metadata": {
        "id": "1139c6ab"
      },
      "source": [
        "## Evaluate the model\n",
        "\n",
        "### Subtask:\n",
        "Evaluate the performance of the trained model using appropriate metrics like accuracy, precision, recall, and F1-score."
      ]
    },
    {
      "cell_type": "markdown",
      "metadata": {
        "id": "b088891e"
      },
      "source": [
        "**Reasoning**:\n",
        "Use the trained model to predict on the validation data and then calculate and print the accuracy and classification report."
      ]
    },
    {
      "cell_type": "code",
      "metadata": {
        "colab": {
          "base_uri": "https://localhost:8080/"
        },
        "id": "c40cf861",
        "outputId": "a2c85afc-8672-4450-8527-d6d285dd7279"
      },
      "source": [
        "from sklearn.metrics import accuracy_score, classification_report\n",
        "\n",
        "y_pred = model.predict(X_val)\n",
        "y_pred_classes = (y_pred > 0.5).astype(int)\n",
        "\n",
        "accuracy = accuracy_score(y_val, y_pred_classes)\n",
        "report = classification_report(y_val, y_pred_classes, target_names=['benign', 'malignant'])\n",
        "\n",
        "print(f\"Accuracy: {accuracy}\")\n",
        "print(\"Classification Report:\")\n",
        "print(report)"
      ],
      "execution_count": 22,
      "outputs": [
        {
          "output_type": "stream",
          "name": "stdout",
          "text": [
            "\u001b[1m4/4\u001b[0m \u001b[32m━━━━━━━━━━━━━━━━━━━━\u001b[0m\u001b[37m\u001b[0m \u001b[1m1s\u001b[0m 228ms/step\n",
            "Accuracy: 0.8230088495575221\n",
            "Classification Report:\n",
            "              precision    recall  f1-score   support\n",
            "\n",
            "      benign       0.85      0.89      0.87        74\n",
            "   malignant       0.77      0.69      0.73        39\n",
            "\n",
            "    accuracy                           0.82       113\n",
            "   macro avg       0.81      0.79      0.80       113\n",
            "weighted avg       0.82      0.82      0.82       113\n",
            "\n"
          ]
        }
      ]
    },
    {
      "cell_type": "markdown",
      "metadata": {
        "id": "b923c169"
      },
      "source": [
        "## Summary:\n",
        "\n",
        "### Data Analysis Key Findings\n",
        "\n",
        "* The training dataset is organized into 'malignant' and 'benign' subdirectories, containing PNG image files, some with \"\\_mask.png\" suffixes.\n",
        "* 565 images were loaded, excluding mask files, and resized to 128x128 pixels.\n",
        "* The dataset was split into training and validation sets, with pixel values normalized by dividing by 255.0. The training data has a shape of (452, 128, 128, 3) and the validation data has a shape of (113, 128, 128, 3).\n",
        "* A CNN model was defined and trained for 10 epochs using the Adam optimizer and binary crossentropy loss.\n",
        "* The model achieved an accuracy of approximately 0.823 on the validation data. The classification report provided precision, recall, and F1-scores for both \"benign\" and \"malignant\" classes.\n",
        "\n",
        "### Insights or Next Steps\n",
        "\n",
        "* Investigate potential overfitting indicated by fluctuating validation accuracy and explore techniques like data augmentation or dropout layers to improve generalization.\n",
        "* Analyze the classification report to understand the model's performance on each class and identify areas for improvement, potentially by adjusting class weights or exploring different model architectures."
      ]
    },
    {
      "cell_type": "markdown",
      "metadata": {
        "id": "9b95ce7e"
      },
      "source": [
        "## Visualize Training History\n",
        "\n",
        "### Subtask:\n",
        "Visualize the training and validation accuracy and loss over epochs to assess model performance and identify potential overfitting."
      ]
    },
    {
      "cell_type": "markdown",
      "metadata": {
        "id": "ced25576"
      },
      "source": [
        "**Reasoning**:\n",
        "Plot the training and validation accuracy and loss from the `history` object obtained during model training."
      ]
    },
    {
      "cell_type": "code",
      "metadata": {
        "colab": {
          "base_uri": "https://localhost:8080/",
          "height": 410
        },
        "id": "1082a3b2",
        "outputId": "3a279c37-5086-40de-97be-8e64e3ca5809"
      },
      "source": [
        "# Plot training and validation accuracy\n",
        "plt.figure(figsize=(12, 4))\n",
        "plt.subplot(1, 2, 1)\n",
        "plt.plot(history.history['accuracy'])\n",
        "plt.plot(history.history['val_accuracy'])\n",
        "plt.title('Model Accuracy')\n",
        "plt.ylabel('Accuracy')\n",
        "plt.xlabel('Epoch')\n",
        "plt.legend(['Train', 'Validation'], loc='upper left')\n",
        "\n",
        "# Plot training and validation loss\n",
        "plt.subplot(1, 2, 2)\n",
        "plt.plot(history.history['loss'])\n",
        "plt.plot(history.history['val_loss'])\n",
        "plt.title('Model Loss')\n",
        "plt.ylabel('Loss')\n",
        "plt.xlabel('Epoch')\n",
        "plt.legend(['Train', 'Validation'], loc='upper left')\n",
        "\n",
        "plt.show()"
      ],
      "execution_count": 23,
      "outputs": [
        {
          "output_type": "display_data",
          "data": {
            "text/plain": [
              "<Figure size 1200x400 with 2 Axes>"
            ],
            "image/png": "[encoded data removed]"
          },
          "metadata": {}
        }
      ]
    }
  ]
}