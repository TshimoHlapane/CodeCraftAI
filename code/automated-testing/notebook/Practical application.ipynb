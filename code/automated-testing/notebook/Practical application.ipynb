{
 "cells": [
  {
   "cell_type": "code",
   "execution_count": 1,
   "id": "25c21fef",
   "metadata": {},
   "outputs": [],
   "source": [
    "# Jupyter Notebook Cell\n",
    "# Automated Login Test with Selenium\n",
    "\n",
    "# Install selenium if not already installed\n",
    "# !pip install selenium\n",
    "\n",
    "from selenium import webdriver\n",
    "from selenium.webdriver.common.by import By\n",
    "from selenium.webdriver.common.keys import Keys\n",
    "import time\n"
   ]
  },
  {
   "cell_type": "code",
   "execution_count": 13,
   "id": "2488a6a2",
   "metadata": {},
   "outputs": [],
   "source": [
    "# Set up the driver (ensure chromedriver is in your PATH)\n",
    "driver = webdriver.Chrome()  # Or use webdriver.Firefox()"
   ]
  },
  {
   "cell_type": "code",
   "execution_count": 11,
   "id": "cd58a2b9",
   "metadata": {},
   "outputs": [],
   "source": [
    "# Define your login page URL and credentials\n",
    "login_url = \"https://the-internet.herokuapp.com/login\""
   ]
  },
  {
   "cell_type": "code",
   "execution_count": 14,
   "id": "7a1d2522",
   "metadata": {},
   "outputs": [
    {
     "name": "stdout",
     "output_type": "stream",
     "text": [
      "We have successfully logged in with valid credentials.\n"
     ]
    }
   ],
   "source": [
    "# --- Test 1: Valid credentials ---\n",
    "driver.get(login_url)\n",
    "time.sleep(1)\n",
    "username = driver.find_element(By.NAME, \"username\")  # Correct field name\n",
    "password = driver.find_element(By.NAME, \"password\")  # Correct field name\n",
    "username.send_keys(\"tomsmith\")      # Valid username\n",
    "password.send_keys(\"SuperSecretPassword!\")      # Valid password\n",
    "password.send_keys(Keys.RETURN)\n",
    "time.sleep(2)\n",
    "\n",
    "if \"You logged into a secure area!\" in driver.page_source:\n",
    "    print(\"We have successfully logged in with valid credentials.\")\n",
    "else:\n",
    "    print(\"Failed to log in with valid credentials.\")"
   ]
  },
  {
   "cell_type": "code",
   "execution_count": 16,
   "id": "f9468a18",
   "metadata": {},
   "outputs": [
    {
     "name": "stdout",
     "output_type": "stream",
     "text": [
      "Failed to log in with valid credentials.\n"
     ]
    }
   ],
   "source": [
    "# --- Test 2: Invalid credentials ---\n",
    "driver.get(login_url)\n",
    "time.sleep(1)\n",
    "username = driver.find_element(By.NAME, \"username\")\n",
    "password = driver.find_element(By.NAME, \"password\")\n",
    "username.send_keys(\"invalid_user\")\n",
    "password.send_keys(\"wrong_pass\")\n",
    "password.send_keys(Keys.RETURN)\n",
    "time.sleep(2)\n",
    "\n",
    "if \"You logged into a secure area!\" in driver.page_source:\n",
    "    print(\"We have successfully logged in with valid credentials.\")\n",
    "else:\n",
    "    print(\"Failed to log in with valid credentials.\")\n"
   ]
  },
  {
   "cell_type": "code",
   "execution_count": 17,
   "id": "e2beef9c",
   "metadata": {},
   "outputs": [],
   "source": [
    "driver.quit()"
   ]
  }
 ],
 "metadata": {
  "kernelspec": {
   "display_name": "opencv-env",
   "language": "python",
   "name": "python3"
  },
  "language_info": {
   "codemirror_mode": {
    "name": "ipython",
    "version": 3
   },
   "file_extension": ".py",
   "mimetype": "text/x-python",
   "name": "python",
   "nbconvert_exporter": "python",
   "pygments_lexer": "ipython3",
   "version": "3.13.5"
  }
 },
 "nbformat": 4,
 "nbformat_minor": 5
}
